{
 "cells": [
  {
   "cell_type": "code",
   "execution_count": 1,
   "metadata": {
    "scrolled": true
   },
   "outputs": [
    {
     "name": "stderr",
     "output_type": "stream",
     "text": [
      "/home/sean/Repos/HPI-karlicoss/my/location/via_ip.py:7: UserWarning: my.location.via_ip is deprecated, use my.location.fallback.via_ip instead\n",
      "  high(\"my.location.via_ip is deprecated, use my.location.fallback.via_ip instead\")\n",
      "/home/sean/Repos/HPI-karlicoss/my/location/fallback/via_ip.py:55: UserWarning: locations is deprecated, should use fallback_locations or estimate_location\n",
      "  medium(\"locations is deprecated, should use fallback_locations or estimate_location\")\n"
     ]
    }
   ],
   "source": [
    "# load in data from HPI\n",
    "from my.location.via_ip import locations\n",
    "locs = sorted(locations(), key=lambda l: l.dt)\n"
   ]
  },
  {
   "cell_type": "code",
   "execution_count": 2,
   "metadata": {},
   "outputs": [],
   "source": [
    "# per day info\n",
    "import pandas as pd\n",
    "from itertools import groupby\n",
    "locs_sample = []\n",
    "for d, ll in groupby(locs, key=lambda l: l.dt.date().day):\n",
    "    res, count = Counter(list(ll)).most_common(1)[0]\n",
    "    locs_sample.append(res)\n",
    "locs_sample = pd.DataFrame(locs_sample)\n",
    "# print(len(locs_sample)) # (number of days data exists for)"
   ]
  },
  {
   "cell_type": "code",
   "execution_count": 4,
   "metadata": {},
   "outputs": [],
   "source": [
    "# https://wiki.openstreetmap.org/wiki/Mercator#Python_implementation\n",
    "import math\n",
    "\n",
    "def merc_x(lon):\n",
    "  r_major=6378137.000\n",
    "  return r_major*math.radians(lon)\n",
    "\n",
    "def merc_y(lat):\n",
    "  if lat>89.5:lat=89.5\n",
    "  if lat<-89.5:lat=-89.5\n",
    "  r_major=6378137.000\n",
    "  r_minor=6356752.3142\n",
    "  temp=r_minor/r_major\n",
    "  eccent=math.sqrt(1-temp**2)\n",
    "  phi=math.radians(lat)\n",
    "  sinphi=math.sin(phi)\n",
    "  con=eccent*sinphi\n",
    "  com=eccent/2\n",
    "  con=((1.0-con)/(1.0+con))**com\n",
    "  ts=math.tan((math.pi/2-phi)/2)/con\n",
    "  y=0-r_major*math.log(ts)\n",
    "  return y\n",
    "\n",
    "import math\n",
    "# ugh https://gis.stackexchange.com/a/156046 this one works fine??\n",
    "def merc(lat, lon):\n",
    "    r_major = 6378137.000\n",
    "    x = r_major * math.radians(lon)\n",
    "    scale = x/lon\n",
    "    y = 180.0/math.pi * math.log(math.tan(math.pi/4.0 + lat * (math.pi/180.0)/2.0)) * scale\n",
    "    return (x, y)\n",
    "\n",
    "# meh\n",
    "mx = []\n",
    "my = []\n",
    "for lat, lon in zip(locs_sample['lat'], locs_sample['lon']):\n",
    "    (mmx, mmy) = merc(lat, lon)\n",
    "    mx.append(mmx)\n",
    "    my.append(mmy)\n",
    "locs_sample['merc_lat'] = mx\n",
    "locs_sample['merc_lon'] = my"
   ]
  },
  {
   "cell_type": "code",
   "execution_count": null,
   "metadata": {},
   "outputs": [],
   "source": [
    "# https://github.com/karlicoss/dashboard/blob/d750b9322574d136055acc8e26065580856b1fab/notebooks/bokeh_test.ipynb\n",
    "\n",
    "from bokeh.plotting import figure, show\n",
    "from bokeh.tile_providers import OSM, get_provider\n",
    "from bokeh.models import ColumnDataSource as CDS\n",
    "\n",
    "tile_provider = get_provider(OSM)\n",
    "\n",
    "x_range = min(int(locs_sample['merc_lat'])), int(max(locs_sample['merc_lat']))\n",
    "y_range = min(int(locs_sample['merc_lon'])), int(max(locs_sample['merc_lon']))\n",
    "\n",
    "#print(x_range, y_range)\n",
    "\n",
    "p = figure(title='map', x_axis_type=\"mercator\", y_axis_type=\"mercator\", plot_width=2000, x_range=x_range, y_range=y_range)\n",
    "p.add_tile(tile_provider)\n",
    "\n",
    "source = CDS(data=locs_sample)\n",
    "\n",
    "p.circle(x=\"merc_lat\", y=\"merc_lon\", size=15, fill_color=\"blue\", fill_alpha=0.8, source=source)\n",
    "\n",
    "#save to html file\n",
    "#output_file(\"file.html\")\n",
    "#save(p)\n",
    "show(p)\n",
    "#print(locs_df)"
   ]
  },
  {
   "cell_type": "code",
   "execution_count": null,
   "metadata": {},
   "outputs": [],
   "source": []
  }
 ],
 "metadata": {
  "kernelspec": {
   "display_name": "Python 3 (ipykernel)",
   "language": "python",
   "name": "python3"
  },
  "language_info": {
   "codemirror_mode": {
    "name": "ipython",
    "version": 3
   },
   "file_extension": ".py",
   "mimetype": "text/x-python",
   "name": "python",
   "nbconvert_exporter": "python",
   "pygments_lexer": "ipython3",
   "version": "3.11.3"
  }
 },
 "nbformat": 4,
 "nbformat_minor": 4
}
